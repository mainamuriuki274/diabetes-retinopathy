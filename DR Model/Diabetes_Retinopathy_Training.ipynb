{
  "nbformat": 4,
  "nbformat_minor": 0,
  "metadata": {
    "accelerator": "GPU",
    "colab": {
      "name": "Diabetes_Retinopathy_Training.ipynb",
      "provenance": [],
      "collapsed_sections": []
    },
    "kernelspec": {
      "display_name": "Python 3",
      "name": "python3"
    }
  },
  "cells": [
    {
      "cell_type": "code",
      "metadata": {
        "colab": {
          "base_uri": "https://localhost:8080/"
        },
        "id": "ahYQN-n7FpuJ",
        "outputId": "81b302c9-2424-450f-cfb5-d7e675fb8123"
      },
      "source": [
        "import os\n",
        "os.environ['CUDA_VISIBLE_DEVICES'] = '0'\n",
        "import cv2\n",
        "import pickle\n",
        "import numpy as np\n",
        "import pandas as pd\n",
        "import tensorflow as tf\n",
        "from tensorflow import keras\n",
        "from keras import layers\n",
        "from keras.preprocessing.image import ImageDataGenerator\n",
        "from keras.layers import Input, Dense, Activation, ZeroPadding2D, BatchNormalization, Flatten, Conv2D, MaxPool2D\n",
        "from keras.layers import AveragePooling2D, MaxPooling2D, Dropout, GlobalMaxPooling2D, GlobalAveragePooling2D\n",
        "from tensorflow.keras.models import Sequential,Model\n",
        "from tensorflow.python.keras import regularizers\n",
        "from keras.callbacks import ModelCheckpoint\n",
        "import keras.backend as K\n",
        "from keras.utils.vis_utils import model_to_dot\n",
        "from keras.utils import plot_model\n",
        "from IPython.display import SVG\n",
        "from sklearn.model_selection import train_test_split\n",
        "import matplotlib.pyplot as plt\n",
        "from tensorflow.keras.callbacks import TensorBoard\n",
        "import time\n",
        "from keras.utils import to_categorical\n",
        "from tqdm import tqdm\n",
        "from tensorflow.keras.callbacks import EarlyStopping,ReduceLROnPlateau\n",
        "from sklearn.metrics import accuracy_score\n",
        "from imblearn.over_sampling import SMOTE\n",
        "from collections import Counter\n",
        "from sklearn.metrics import classification_report\n",
        "from tensorflow.keras.callbacks import TensorBoard\n",
        "import time\n",
        "from keras.applications.vgg16 import VGG16\n",
        "from keras.applications.vgg16 import preprocess_input\n",
        "import seaborn as sns\n",
        "from sklearn.metrics import confusion_matrix\n",
        "import collections\n",
        "from sklearn.utils import shuffle\n",
        "from keras.layers import LeakyReLU\n",
        "from keras.layers.merge import concatenate\n",
        "from imblearn.under_sampling import NearMiss\n",
        "from sklearn.preprocessing import StandardScaler"
      ],
      "execution_count": null,
      "outputs": [
        {
          "output_type": "stream",
          "text": [
            "/usr/local/lib/python3.6/dist-packages/sklearn/externals/six.py:31: FutureWarning: The module is deprecated in version 0.21 and will be removed in version 0.23 since we've dropped support for Python 2.7. Please rely on the official version of six (https://pypi.org/project/six/).\n",
            "  \"(https://pypi.org/project/six/).\", FutureWarning)\n",
            "/usr/local/lib/python3.6/dist-packages/sklearn/utils/deprecation.py:144: FutureWarning: The sklearn.neighbors.base module is  deprecated in version 0.22 and will be removed in version 0.24. The corresponding classes / functions should instead be imported from sklearn.neighbors. Anything that cannot be imported from sklearn.neighbors is now part of the private API.\n",
            "  warnings.warn(message, FutureWarning)\n"
          ],
          "name": "stderr"
        }
      ]
    },
    {
      "cell_type": "code",
      "metadata": {
        "colab": {
          "base_uri": "https://localhost:8080/"
        },
        "id": "dxp5CQ_AI_Mf",
        "outputId": "c9545276-4c65-4f01-d833-2d33cfad0ba9"
      },
      "source": [
        "from google.colab import drive\n",
        "drive.mount(\"/content/drive\")"
      ],
      "execution_count": null,
      "outputs": [
        {
          "output_type": "stream",
          "text": [
            "Mounted at /content/drive\n"
          ],
          "name": "stdout"
        }
      ]
    },
    {
      "cell_type": "code",
      "metadata": {
        "id": "Qsm4Biw17Ul1"
      },
      "source": [
        "train_images = pickle.load(open('/content/drive/My Drive/Datasets/DR_train_images.pkl','rb'))\r\n",
        "train_labels = pickle.load(open('/content/drive/My Drive/Datasets/DR_train_labels.pkl','rb'))"
      ],
      "execution_count": null,
      "outputs": []
    },
    {
      "cell_type": "code",
      "metadata": {
        "id": "Z2t7yGdcytAs"
      },
      "source": [
        "IMG_SIZE = 224\r\n",
        "CHANNELS = 3"
      ],
      "execution_count": null,
      "outputs": []
    },
    {
      "cell_type": "code",
      "metadata": {
        "id": "fc0a1xzv780g"
      },
      "source": [
        "data,Label = shuffle(train_images,train_labels, random_state=2)\r\n",
        "training_data = [data,Label]\r\n",
        "type(training_data)\r\n",
        "(X, y) = (training_data[0],training_data[1])"
      ],
      "execution_count": null,
      "outputs": []
    },
    {
      "cell_type": "code",
      "metadata": {
        "id": "LhVcZxBdb9eQ"
      },
      "source": [
        "del data\r\n",
        "del Label\r\n",
        "del training_data\r\n",
        "del train_images\r\n",
        "del train_labels"
      ],
      "execution_count": null,
      "outputs": []
    },
    {
      "cell_type": "code",
      "metadata": {
        "id": "L_KRFLhQ8B9z"
      },
      "source": [
        "X = np.asarray(X)\r\n",
        "y = np.asarray(y)"
      ],
      "execution_count": null,
      "outputs": []
    },
    {
      "cell_type": "code",
      "metadata": {
        "id": "ZrFwLCmqyUFJ",
        "colab": {
          "base_uri": "https://localhost:8080/"
        },
        "outputId": "bc5b4664-0afb-4701-8142-7a763653a70c"
      },
      "source": [
        "X.shape"
      ],
      "execution_count": null,
      "outputs": [
        {
          "output_type": "execute_result",
          "data": {
            "text/plain": [
              "(9570, 224, 224, 3)"
            ]
          },
          "metadata": {
            "tags": []
          },
          "execution_count": 8
        }
      ]
    },
    {
      "cell_type": "code",
      "metadata": {
        "id": "i5pzhM6CGIdk",
        "colab": {
          "base_uri": "https://localhost:8080/"
        },
        "outputId": "68e01ca1-d025-4016-b435-cf1f7d4fab6b"
      },
      "source": [
        "Counter(y)"
      ],
      "execution_count": null,
      "outputs": [
        {
          "output_type": "execute_result",
          "data": {
            "text/plain": [
              "Counter({0: 1914, 1: 1914, 2: 1914, 3: 1914, 4: 1914})"
            ]
          },
          "metadata": {
            "tags": []
          },
          "execution_count": 9
        }
      ]
    },
    {
      "cell_type": "code",
      "metadata": {
        "id": "dBILoOw80u7i",
        "colab": {
          "base_uri": "https://localhost:8080/"
        },
        "outputId": "b119b11c-5407-4566-95e7-7d3fc47ba2e9"
      },
      "source": [
        "X_train, X_test, y_train, y_test = train_test_split(X, y, test_size=0.2,random_state=None,stratify=y)\r\n",
        "print(\"X_train shape : \",X_train.shape)\r\n",
        "print(\"y_train shape : \",y_train.shape)\r\n",
        "print(\"X_test shape  : \",X_test.shape)\r\n",
        "print(\"y_test shape  : \",y_test.shape)"
      ],
      "execution_count": null,
      "outputs": [
        {
          "output_type": "stream",
          "text": [
            "X_train shape :  (8613, 224, 224, 3)\n",
            "y_train shape :  (8613,)\n",
            "X_test shape  :  (957, 224, 224, 3)\n",
            "y_test shape  :  (957,)\n"
          ],
          "name": "stdout"
        }
      ]
    },
    {
      "cell_type": "code",
      "metadata": {
        "id": "F-cCqmq6fTg6",
        "colab": {
          "base_uri": "https://localhost:8080/"
        },
        "outputId": "56bb184a-dc74-4f2c-9d45-9e69617cdb90"
      },
      "source": [
        "X_val, X_test, y_val, y_test = train_test_split(X_test, y_test, test_size=0.5,random_state=None,stratify=y_test)\r\n",
        "print(\"X_val shape : \",X_val.shape)\r\n",
        "print(\"y_val shape : \",y_val.shape)\r\n",
        "print(\"X_test shape  : \",X_test.shape)\r\n",
        "print(\"y_test shape  : \",y_test.shape)"
      ],
      "execution_count": null,
      "outputs": [
        {
          "output_type": "stream",
          "text": [
            "X_val shape :  (478, 224, 224, 3)\n",
            "y_val shape :  (478,)\n",
            "X_test shape  :  (479, 224, 224, 3)\n",
            "y_test shape  :  (479,)\n"
          ],
          "name": "stdout"
        }
      ]
    },
    {
      "cell_type": "code",
      "metadata": {
        "id": "JqXkWRxBMdTi"
      },
      "source": [
        "del X\r\n",
        "del y"
      ],
      "execution_count": null,
      "outputs": []
    },
    {
      "cell_type": "code",
      "metadata": {
        "id": "R49R-_dnSJk8",
        "colab": {
          "base_uri": "https://localhost:8080/"
        },
        "outputId": "1ae500ee-b529-4379-8dd1-ac5790e335a6"
      },
      "source": [
        "Counter(y_train)"
      ],
      "execution_count": null,
      "outputs": [
        {
          "output_type": "execute_result",
          "data": {
            "text/plain": [
              "Counter({0: 1723, 1: 1723, 2: 1723, 3: 1722, 4: 1722})"
            ]
          },
          "metadata": {
            "tags": []
          },
          "execution_count": 14
        }
      ]
    },
    {
      "cell_type": "code",
      "metadata": {
        "id": "O0VvMR-_peNc",
        "colab": {
          "base_uri": "https://localhost:8080/"
        },
        "outputId": "ebec1ba6-9f8b-46c7-ec04-39a1f4bda97a"
      },
      "source": [
        "X_train.shape"
      ],
      "execution_count": null,
      "outputs": [
        {
          "output_type": "execute_result",
          "data": {
            "text/plain": [
              "(8613, 224, 224, 3)"
            ]
          },
          "metadata": {
            "tags": []
          },
          "execution_count": 15
        }
      ]
    },
    {
      "cell_type": "code",
      "metadata": {
        "id": "iTaUoHg2Yg0l",
        "colab": {
          "base_uri": "https://localhost:8080/"
        },
        "outputId": "169243f2-d648-4ceb-e539-cb482568f14a"
      },
      "source": [
        "X_train.dtype"
      ],
      "execution_count": null,
      "outputs": [
        {
          "output_type": "execute_result",
          "data": {
            "text/plain": [
              "dtype('uint8')"
            ]
          },
          "metadata": {
            "tags": []
          },
          "execution_count": 16
        }
      ]
    },
    {
      "cell_type": "code",
      "metadata": {
        "id": "cw01Axd5phnG",
        "colab": {
          "base_uri": "https://localhost:8080/"
        },
        "outputId": "527ff4e6-775e-4ee9-9b9f-228e25937622"
      },
      "source": [
        "y_train.shape"
      ],
      "execution_count": null,
      "outputs": [
        {
          "output_type": "execute_result",
          "data": {
            "text/plain": [
              "(8613,)"
            ]
          },
          "metadata": {
            "tags": []
          },
          "execution_count": 17
        }
      ]
    },
    {
      "cell_type": "code",
      "metadata": {
        "id": "c2JqCnWcqzlG",
        "colab": {
          "base_uri": "https://localhost:8080/"
        },
        "outputId": "a27dd524-05ab-413f-8c54-27bd307f84f8"
      },
      "source": [
        "X_train.shape[1:]"
      ],
      "execution_count": null,
      "outputs": [
        {
          "output_type": "execute_result",
          "data": {
            "text/plain": [
              "(224, 224, 3)"
            ]
          },
          "metadata": {
            "tags": []
          },
          "execution_count": 18
        }
      ]
    },
    {
      "cell_type": "code",
      "metadata": {
        "id": "38M6utmbBS-H",
        "colab": {
          "base_uri": "https://localhost:8080/"
        },
        "outputId": "6d13c055-a43c-4356-d992-bdb8af327af3"
      },
      "source": [
        "print(y_train[0:10])\r\n",
        "#import collections\r\n",
        "#collections.Counter(y_train)"
      ],
      "execution_count": null,
      "outputs": [
        {
          "output_type": "stream",
          "text": [
            "[2 0 0 3 4 1 2 1 0 0]\n"
          ],
          "name": "stdout"
        }
      ]
    },
    {
      "cell_type": "code",
      "metadata": {
        "id": "GN4T7q-DDQyU",
        "colab": {
          "base_uri": "https://localhost:8080/",
          "height": 299
        },
        "outputId": "fd6af012-4e1b-4868-eec3-a537c420bc5d"
      },
      "source": [
        "plt.imshow(X_train[10])\r\n",
        "plt.title(y_train[10])\r\n",
        "plt.show"
      ],
      "execution_count": null,
      "outputs": [
        {
          "output_type": "execute_result",
          "data": {
            "text/plain": [
              "<function matplotlib.pyplot.show>"
            ]
          },
          "metadata": {
            "tags": []
          },
          "execution_count": 20
        },
        {
          "output_type": "display_data",
          "data": {
            "image/png": "[encoded data removed]",
            "text/plain": [
              "<Figure size 432x288 with 1 Axes>"
            ]
          },
          "metadata": {
            "tags": [],
            "needs_background": "light"
          }
        }
      ]
    },
    {
      "cell_type": "code",
      "metadata": {
        "id": "tI7ty2RV2cxa",
        "colab": {
          "base_uri": "https://localhost:8080/"
        },
        "outputId": "eeddcd02-0d3b-46b1-a931-e94df2718f3c"
      },
      "source": [
        "print(np.unique(y_train))"
      ],
      "execution_count": null,
      "outputs": [
        {
          "output_type": "stream",
          "text": [
            "[0 1 2 3 4]\n"
          ],
          "name": "stdout"
        }
      ]
    },
    {
      "cell_type": "code",
      "metadata": {
        "id": "0IhS3MuVLiqf",
        "colab": {
          "base_uri": "https://localhost:8080/"
        },
        "outputId": "a0bae9de-413a-446a-b302-2251fb31a30a"
      },
      "source": [
        "X_train.shape[1:]"
      ],
      "execution_count": null,
      "outputs": [
        {
          "output_type": "execute_result",
          "data": {
            "text/plain": [
              "(224, 224, 3)"
            ]
          },
          "metadata": {
            "tags": []
          },
          "execution_count": 22
        }
      ]
    },
    {
      "cell_type": "code",
      "metadata": {
        "id": "1EKzhrb0imQC"
      },
      "source": [
        "def lr_rate(epoch,lr):\r\n",
        "    if epoch<10:\r\n",
        "        lr=0.0001\r\n",
        "        return lr\r\n",
        "    elif epoch<=15:\r\n",
        "        lr=0.0005\r\n",
        "        return lr\r\n",
        "    elif epoch<=30:\r\n",
        "        lr=0.0001\r\n",
        "        return lr\r\n",
        "    else:\r\n",
        "        lr=lr*(epoch/(1+epoch))\r\n",
        "        return lr\r\n",
        "lr_callback=tf.keras.callbacks.LearningRateScheduler(lr_rate)"
      ],
      "execution_count": null,
      "outputs": []
    },
    {
      "cell_type": "code",
      "metadata": {
        "id": "lman-cbM0hQ3"
      },
      "source": [
        "# create generator (1.0/255.0 = 0.003921568627451)\r\n",
        "datagen = ImageDataGenerator(rescale=1.0/255.0)\r\n",
        "# prepare an iterators to scale images\r\n",
        "train_iterator = datagen.flow(X_train, y_train, batch_size=8)\r\n",
        "test_iterator = datagen.flow(X_test, y_test, batch_size=8)"
      ],
      "execution_count": null,
      "outputs": []
    },
    {
      "cell_type": "code",
      "metadata": {
        "id": "Kzr3YQlo-23F"
      },
      "source": [
        "model = Sequential()\r\n",
        "# first set of CONV => RELU => MAX POOL layers\r\n",
        "model.add(Conv2D(32, (3, 3), padding='same', input_shape=X_train.shape[1:]))\r\n",
        "model.add(BatchNormalization())\r\n",
        "model.add(MaxPooling2D(pool_size=(2, 2)))\r\n",
        "#model.add(Dropout(0.25))\r\n",
        "\r\n",
        "model.add(Conv2D(32, (3, 3), padding='same', activation='relu',kernel_regularizer=regularizers.l2(0.01)))\r\n",
        "model.add(BatchNormalization())\r\n",
        "model.add(MaxPooling2D(pool_size=(2, 2)))\r\n",
        "#model.add(Dropout(0.25))\r\n",
        "\r\n",
        "model.add(Conv2D(64, (3, 3), padding='same', activation='relu',kernel_regularizer=regularizers.l2(0.01)))\r\n",
        "model.add(BatchNormalization())\r\n",
        "model.add(MaxPooling2D(pool_size=(2, 2)))\r\n",
        "#model.add(Dropout(0.25))\r\n",
        "\r\n",
        "model.add(Conv2D(64, (3, 3), padding='same', activation='relu',kernel_regularizer=regularizers.l2(0.01)))\r\n",
        "model.add(BatchNormalization())\r\n",
        "model.add(MaxPooling2D(pool_size=(2, 2)))\r\n",
        "#model.add(Dropout(0.25))\r\n",
        "\r\n",
        "model.add(Flatten())\r\n",
        "model.add(Dropout(0.5))\r\n",
        "model.add(Dense(512, activation='relu'))\r\n",
        "model.add(Dense(128, activation='relu'))\r\n",
        "model.add(Dense(64, activation='relu'))\r\n",
        "\r\n",
        "model.add(Dense(5, activation='softmax'))"
      ],
      "execution_count": null,
      "outputs": []
    },
    {
      "cell_type": "code",
      "metadata": {
        "colab": {
          "base_uri": "https://localhost:8080/",
          "height": 1000
        },
        "id": "3akDAoK5Ob6N",
        "outputId": "87ec637f-e9bd-4a7e-fc5d-34834a8ca312"
      },
      "source": [
        "plot_model(model, to_file='/content/drive/My Drive/Datasets/model_plot.png')"
      ],
      "execution_count": null,
      "outputs": [
        {
          "output_type": "execute_result",
          "data": {
            "image/png": "[encoded data removed]",
            "text/plain": [
              "<IPython.core.display.Image object>"
            ]
          },
          "metadata": {
            "tags": []
          },
          "execution_count": 56
        }
      ]
    },
    {
      "cell_type": "code",
      "metadata": {
        "id": "IKv8GD6e1zbm"
      },
      "source": [
        "early_stopping = EarlyStopping(\r\n",
        "    monitor='val_loss', \r\n",
        "    patience=3, \r\n",
        "    min_delta=0.01, \r\n",
        "    mode='min',\r\n",
        "    restore_best_weights=True)"
      ],
      "execution_count": null,
      "outputs": []
    },
    {
      "cell_type": "code",
      "metadata": {
        "id": "tWpPnHKf8rQb"
      },
      "source": [
        "reduce_lr = ReduceLROnPlateau(patience=2)"
      ],
      "execution_count": null,
      "outputs": []
    },
    {
      "cell_type": "code",
      "metadata": {
        "id": "lNBfzf8zHTGG"
      },
      "source": [
        "#COMPILE\r\n",
        "opt = keras.optimizers.Adam(lr=0.00001)\r\n",
        "model.compile(loss='sparse_categorical_crossentropy',\r\n",
        "              optimizer= 'adam',\r\n",
        "              metrics=['accuracy'])"
      ],
      "execution_count": null,
      "outputs": []
    },
    {
      "cell_type": "code",
      "metadata": {
        "id": "lr3xsfojrNLc",
        "colab": {
          "base_uri": "https://localhost:8080/"
        },
        "outputId": "2f10222a-7ee5-4b51-e798-4c46ece907e6"
      },
      "source": [
        "history= model.fit(train_iterator,epochs=100,callbacks=[early_stopping,reduce_lr],batch_size=8,validation_data=test_iterator)"
      ],
      "execution_count": null,
      "outputs": [
        {
          "output_type": "stream",
          "text": [
            "Epoch 1/100\n",
            "1077/1077 [==============================] - 21s 16ms/step - loss: 3.0449 - accuracy: 0.2383 - val_loss: 1.8855 - val_accuracy: 0.2004\n",
            "Epoch 2/100\n",
            "1077/1077 [==============================] - 17s 16ms/step - loss: 1.7278 - accuracy: 0.2592 - val_loss: 1.6900 - val_accuracy: 0.2589\n",
            "Epoch 3/100\n",
            "1077/1077 [==============================] - 17s 16ms/step - loss: 1.6546 - accuracy: 0.2557 - val_loss: 1.6631 - val_accuracy: 0.2150\n",
            "Epoch 4/100\n",
            "1077/1077 [==============================] - 17s 16ms/step - loss: 1.6134 - accuracy: 0.2563 - val_loss: 1.6110 - val_accuracy: 0.2526\n",
            "Epoch 5/100\n",
            "1077/1077 [==============================] - 17s 16ms/step - loss: 1.6172 - accuracy: 0.2701 - val_loss: 1.6767 - val_accuracy: 0.2025\n",
            "Epoch 6/100\n",
            "1077/1077 [==============================] - 17s 16ms/step - loss: 1.6288 - accuracy: 0.2585 - val_loss: 1.8099 - val_accuracy: 0.2004\n",
            "Epoch 7/100\n",
            "1077/1077 [==============================] - 17s 16ms/step - loss: 1.5952 - accuracy: 0.2891 - val_loss: 1.5203 - val_accuracy: 0.3027\n",
            "Epoch 8/100\n",
            "1077/1077 [==============================] - 17s 16ms/step - loss: 1.5126 - accuracy: 0.3117 - val_loss: 1.4367 - val_accuracy: 0.3633\n",
            "Epoch 9/100\n",
            "1077/1077 [==============================] - 17s 16ms/step - loss: 1.4273 - accuracy: 0.3403 - val_loss: 1.4073 - val_accuracy: 0.3779\n",
            "Epoch 10/100\n",
            "1077/1077 [==============================] - 17s 16ms/step - loss: 1.3837 - accuracy: 0.3552 - val_loss: 1.3773 - val_accuracy: 0.3653\n",
            "Epoch 11/100\n",
            "1077/1077 [==============================] - 17s 16ms/step - loss: 1.3593 - accuracy: 0.3637 - val_loss: 1.3572 - val_accuracy: 0.3987\n",
            "Epoch 12/100\n",
            "1077/1077 [==============================] - 17s 16ms/step - loss: 1.3369 - accuracy: 0.3871 - val_loss: 1.3422 - val_accuracy: 0.3967\n",
            "Epoch 13/100\n",
            "1077/1077 [==============================] - 17s 16ms/step - loss: 1.2852 - accuracy: 0.4195 - val_loss: 1.2944 - val_accuracy: 0.4426\n",
            "Epoch 14/100\n",
            "1077/1077 [==============================] - 17s 16ms/step - loss: 1.2360 - accuracy: 0.4672 - val_loss: 1.4069 - val_accuracy: 0.4217\n",
            "Epoch 15/100\n",
            "1077/1077 [==============================] - 17s 16ms/step - loss: 1.1847 - accuracy: 0.4847 - val_loss: 1.2539 - val_accuracy: 0.4718\n",
            "Epoch 16/100\n",
            "1077/1077 [==============================] - 17s 16ms/step - loss: 1.1325 - accuracy: 0.5167 - val_loss: 1.3015 - val_accuracy: 0.4635\n",
            "Epoch 17/100\n",
            "1077/1077 [==============================] - 17s 16ms/step - loss: 1.0890 - accuracy: 0.5349 - val_loss: 1.1993 - val_accuracy: 0.4948\n",
            "Epoch 18/100\n",
            "1077/1077 [==============================] - 17s 16ms/step - loss: 1.0255 - accuracy: 0.5733 - val_loss: 1.2306 - val_accuracy: 0.5073\n",
            "Epoch 19/100\n",
            "1077/1077 [==============================] - 17s 16ms/step - loss: 0.9692 - accuracy: 0.5949 - val_loss: 1.2188 - val_accuracy: 0.5386\n",
            "Epoch 20/100\n",
            "1077/1077 [==============================] - 17s 16ms/step - loss: 0.8923 - accuracy: 0.6258 - val_loss: 1.1778 - val_accuracy: 0.5324\n",
            "Epoch 21/100\n",
            "1077/1077 [==============================] - 17s 16ms/step - loss: 0.8587 - accuracy: 0.6383 - val_loss: 1.1818 - val_accuracy: 0.5428\n",
            "Epoch 22/100\n",
            "1077/1077 [==============================] - 17s 16ms/step - loss: 0.8440 - accuracy: 0.6630 - val_loss: 1.1799 - val_accuracy: 0.5449\n",
            "Epoch 23/100\n",
            "1077/1077 [==============================] - 17s 16ms/step - loss: 0.8178 - accuracy: 0.6745 - val_loss: 1.1795 - val_accuracy: 0.5428\n",
            "Epoch 24/100\n",
            "1077/1077 [==============================] - 17s 16ms/step - loss: 0.8151 - accuracy: 0.6609 - val_loss: 1.1781 - val_accuracy: 0.5449\n"
          ],
          "name": "stdout"
        }
      ]
    },
    {
      "cell_type": "code",
      "metadata": {
        "id": "EcPjBJPKKOmw",
        "colab": {
          "base_uri": "https://localhost:8080/",
          "height": 295
        },
        "outputId": "45d1738d-7669-4ebb-f674-0138ae0035cd"
      },
      "source": [
        "plt.plot(history.history['accuracy'])\r\n",
        "plt.plot(history.history['val_accuracy'])\r\n",
        "plt.title('model accuracy')\r\n",
        "plt.ylabel('accuracy')\r\n",
        "plt.xlabel('epoch')\r\n",
        "plt.legend(['train', 'val'], loc='upper left')\r\n",
        "plt.show()"
      ],
      "execution_count": null,
      "outputs": [
        {
          "output_type": "display_data",
          "data": {
            "image/png": "[encoded data removed]",
            "text/plain": [
              "<Figure size 432x288 with 1 Axes>"
            ]
          },
          "metadata": {
            "tags": [],
            "needs_background": "light"
          }
        }
      ]
    },
    {
      "cell_type": "code",
      "metadata": {
        "id": "UuQY0c5JKPVy",
        "colab": {
          "base_uri": "https://localhost:8080/",
          "height": 295
        },
        "outputId": "3989f87a-8d55-48e5-e4c1-2c6c0ea322e6"
      },
      "source": [
        "plt.plot(history.history['loss'])\r\n",
        "plt.plot(history.history['val_loss'])\r\n",
        "plt.title('Model Loss')\r\n",
        "plt.ylabel('loss')\r\n",
        "plt.xlabel('epoch')\r\n",
        "plt.legend(['train', 'val'], loc='upper left')\r\n",
        "plt.show()"
      ],
      "execution_count": null,
      "outputs": [
        {
          "output_type": "display_data",
          "data": {
            "image/png": "[encoded data removed]",
            "text/plain": [
              "<Figure size 432x288 with 1 Axes>"
            ]
          },
          "metadata": {
            "tags": [],
            "needs_background": "light"
          }
        }
      ]
    },
    {
      "cell_type": "code",
      "metadata": {
        "id": "lGeDhTJGImsC",
        "colab": {
          "base_uri": "https://localhost:8080/"
        },
        "outputId": "0cf6cbaf-3776-42b4-80e3-3ba7f60d4450"
      },
      "source": [
        "X_test.shape"
      ],
      "execution_count": null,
      "outputs": [
        {
          "output_type": "execute_result",
          "data": {
            "text/plain": [
              "(479, 224, 224, 3)"
            ]
          },
          "metadata": {
            "tags": []
          },
          "execution_count": 35
        }
      ]
    },
    {
      "cell_type": "code",
      "metadata": {
        "id": "nIyWInbYL-oh"
      },
      "source": [
        "X_test = X_test/255"
      ],
      "execution_count": null,
      "outputs": []
    },
    {
      "cell_type": "code",
      "metadata": {
        "id": "iNlOJvPsO5wN",
        "colab": {
          "base_uri": "https://localhost:8080/"
        },
        "outputId": "594044da-3dfb-4a68-883e-182983ba99c7"
      },
      "source": [
        "collections.Counter(y_test)"
      ],
      "execution_count": null,
      "outputs": [
        {
          "output_type": "execute_result",
          "data": {
            "text/plain": [
              "Counter({0: 96, 1: 96, 2: 95, 3: 96, 4: 96})"
            ]
          },
          "metadata": {
            "tags": []
          },
          "execution_count": 37
        }
      ]
    },
    {
      "cell_type": "code",
      "metadata": {
        "colab": {
          "base_uri": "https://localhost:8080/"
        },
        "id": "mnZBGTAJLhp6",
        "outputId": "4c2e6405-732c-4817-9aba-1ca55a5abafd"
      },
      "source": [
        "collections.Counter(y_test)"
      ],
      "execution_count": null,
      "outputs": [
        {
          "output_type": "execute_result",
          "data": {
            "text/plain": [
              "Counter({0: 96, 1: 96, 2: 95, 3: 96, 4: 96})"
            ]
          },
          "metadata": {
            "tags": []
          },
          "execution_count": 38
        }
      ]
    },
    {
      "cell_type": "code",
      "metadata": {
        "id": "8OrFs17XKfXC",
        "colab": {
          "base_uri": "https://localhost:8080/"
        },
        "outputId": "15dca870-6119-495f-9464-abaa6e33fe22"
      },
      "source": [
        "preds = model.evaluate(X_test, y_test)\r\n",
        "print (\"Loss = \" + str(preds[0]))\r\n",
        "print (\"Test Accuracy = \" + str(preds[1]*100))"
      ],
      "execution_count": null,
      "outputs": [
        {
          "output_type": "stream",
          "text": [
            "15/15 [==============================] - 1s 27ms/step - loss: 1.2188 - accuracy: 0.5386\n",
            "Loss = 1.2187987565994263\n",
            "Test Accuracy = 53.86221408843994\n"
          ],
          "name": "stdout"
        }
      ]
    },
    {
      "cell_type": "code",
      "metadata": {
        "id": "S44mx09U4GNf"
      },
      "source": [
        "y_predict = model.predict(X_test)"
      ],
      "execution_count": null,
      "outputs": []
    },
    {
      "cell_type": "code",
      "metadata": {
        "id": "FdS16f7cvP_S"
      },
      "source": [
        "y_predict=np.argmax(y_predict, axis=1)"
      ],
      "execution_count": null,
      "outputs": []
    },
    {
      "cell_type": "code",
      "metadata": {
        "id": "w4hMMWl4SFnP",
        "colab": {
          "base_uri": "https://localhost:8080/"
        },
        "outputId": "288a53d9-92f3-4020-d50c-5f61a6a15c18"
      },
      "source": [
        "print(classification_report(y_test,y_predict))"
      ],
      "execution_count": null,
      "outputs": [
        {
          "output_type": "stream",
          "text": [
            "              precision    recall  f1-score   support\n",
            "\n",
            "           0       0.41      0.65      0.50        96\n",
            "           1       0.37      0.16      0.22        96\n",
            "           2       0.50      0.57      0.53        95\n",
            "           3       0.71      0.60      0.65        96\n",
            "           4       0.70      0.72      0.71        96\n",
            "\n",
            "    accuracy                           0.54       479\n",
            "   macro avg       0.54      0.54      0.52       479\n",
            "weighted avg       0.54      0.54      0.52       479\n",
            "\n"
          ],
          "name": "stdout"
        }
      ]
    },
    {
      "cell_type": "code",
      "metadata": {
        "id": "-nYW-qLD4FWY",
        "colab": {
          "base_uri": "https://localhost:8080/",
          "height": 250
        },
        "outputId": "d31cdecc-81f5-4f5b-87f5-e436d84dcc92"
      },
      "source": [
        "print(str(accuracy_score(y_test,y_predict)*100)+\"%\")\r\n",
        "test_table = pd.crosstab(y_test,y_predict)\r\n",
        "test_table"
      ],
      "execution_count": null,
      "outputs": [
        {
          "output_type": "stream",
          "text": [
            "53.86221294363257%\n"
          ],
          "name": "stdout"
        },
        {
          "output_type": "execute_result",
          "data": {
            "text/html": [
              "<div>\n",
              "<style scoped>\n",
              "    .dataframe tbody tr th:only-of-type {\n",
              "        vertical-align: middle;\n",
              "    }\n",
              "\n",
              "    .dataframe tbody tr th {\n",
              "        vertical-align: top;\n",
              "    }\n",
              "\n",
              "    .dataframe thead th {\n",
              "        text-align: right;\n",
              "    }\n",
              "</style>\n",
              "<table border=\"1\" class=\"dataframe\">\n",
              "  <thead>\n",
              "    <tr style=\"text-align: right;\">\n",
              "      <th>col_0</th>\n",
              "      <th>0</th>\n",
              "      <th>1</th>\n",
              "      <th>2</th>\n",
              "      <th>3</th>\n",
              "      <th>4</th>\n",
              "    </tr>\n",
              "    <tr>\n",
              "      <th>row_0</th>\n",
              "      <th></th>\n",
              "      <th></th>\n",
              "      <th></th>\n",
              "      <th></th>\n",
              "      <th></th>\n",
              "    </tr>\n",
              "  </thead>\n",
              "  <tbody>\n",
              "    <tr>\n",
              "      <th>0</th>\n",
              "      <td>62</td>\n",
              "      <td>12</td>\n",
              "      <td>13</td>\n",
              "      <td>3</td>\n",
              "      <td>6</td>\n",
              "    </tr>\n",
              "    <tr>\n",
              "      <th>1</th>\n",
              "      <td>49</td>\n",
              "      <td>15</td>\n",
              "      <td>23</td>\n",
              "      <td>5</td>\n",
              "      <td>4</td>\n",
              "    </tr>\n",
              "    <tr>\n",
              "      <th>2</th>\n",
              "      <td>23</td>\n",
              "      <td>10</td>\n",
              "      <td>54</td>\n",
              "      <td>3</td>\n",
              "      <td>5</td>\n",
              "    </tr>\n",
              "    <tr>\n",
              "      <th>3</th>\n",
              "      <td>10</td>\n",
              "      <td>3</td>\n",
              "      <td>10</td>\n",
              "      <td>58</td>\n",
              "      <td>15</td>\n",
              "    </tr>\n",
              "    <tr>\n",
              "      <th>4</th>\n",
              "      <td>6</td>\n",
              "      <td>1</td>\n",
              "      <td>7</td>\n",
              "      <td>13</td>\n",
              "      <td>69</td>\n",
              "    </tr>\n",
              "  </tbody>\n",
              "</table>\n",
              "</div>"
            ],
            "text/plain": [
              "col_0   0   1   2   3   4\n",
              "row_0                    \n",
              "0      62  12  13   3   6\n",
              "1      49  15  23   5   4\n",
              "2      23  10  54   3   5\n",
              "3      10   3  10  58  15\n",
              "4       6   1   7  13  69"
            ]
          },
          "metadata": {
            "tags": []
          },
          "execution_count": 43
        }
      ]
    },
    {
      "cell_type": "code",
      "metadata": {
        "id": "VtsuGcD3l0Ta",
        "colab": {
          "base_uri": "https://localhost:8080/"
        },
        "outputId": "dcd4de1c-fa3b-4261-92e2-77f9a5b6b53d"
      },
      "source": [
        "collections.Counter(y_test)"
      ],
      "execution_count": null,
      "outputs": [
        {
          "output_type": "execute_result",
          "data": {
            "text/plain": [
              "Counter({0: 96, 1: 96, 2: 95, 3: 96, 4: 96})"
            ]
          },
          "metadata": {
            "tags": []
          },
          "execution_count": 44
        }
      ]
    },
    {
      "cell_type": "code",
      "metadata": {
        "id": "49Xkwya4VCAM",
        "colab": {
          "base_uri": "https://localhost:8080/"
        },
        "outputId": "2cadb5d9-c54e-4b5a-9564-a36a5e83fa8c"
      },
      "source": [
        "collections.Counter(y_predict)"
      ],
      "execution_count": null,
      "outputs": [
        {
          "output_type": "execute_result",
          "data": {
            "text/plain": [
              "Counter({0: 150, 1: 41, 2: 107, 3: 82, 4: 99})"
            ]
          },
          "metadata": {
            "tags": []
          },
          "execution_count": 45
        }
      ]
    },
    {
      "cell_type": "code",
      "metadata": {
        "id": "YBiHIb6Ns2SN",
        "colab": {
          "base_uri": "https://localhost:8080/",
          "height": 283
        },
        "outputId": "b5ed0d41-4d3b-454e-f5b2-5b11a4bcaec2"
      },
      "source": [
        "sns.heatmap(confusion_matrix(y_test, y_predict), annot=True, fmt=\"d\", cbar = False, cmap = plt.cm.Blues, vmax = X_test.shape[0]//16)"
      ],
      "execution_count": null,
      "outputs": [
        {
          "output_type": "execute_result",
          "data": {
            "text/plain": [
              "<matplotlib.axes._subplots.AxesSubplot at 0x7fa77e0a9240>"
            ]
          },
          "metadata": {
            "tags": []
          },
          "execution_count": 46
        },
        {
          "output_type": "display_data",
          "data": {
            "image/png": "[encoded data removed]",
            "text/plain": [
              "<Figure size 432x288 with 1 Axes>"
            ]
          },
          "metadata": {
            "tags": [],
            "needs_background": "light"
          }
        }
      ]
    },
    {
      "cell_type": "code",
      "metadata": {
        "id": "Lt-WRXxBH4wG",
        "colab": {
          "base_uri": "https://localhost:8080/"
        },
        "outputId": "61bad308-d3d0-4578-981f-38f9a5771043"
      },
      "source": [
        "#perfomance of level 0\r\n",
        "correct_prediction0 = test_table[0][0]\r\n",
        "total_images0 = test_table[0].sum()\r\n",
        "correct_percentage0 = correct_prediction0/total_images0*100\r\n",
        "print(\"Level 0 correct prediction is: \" +str(correct_percentage0)+ \"%\")\r\n",
        "\r\n",
        "#perfomance of level 1\r\n",
        "correct_prediction1 = test_table[1][1]\r\n",
        "total_images1 = test_table[1].sum()\r\n",
        "correct_percentage1 = correct_prediction1/total_images1*100\r\n",
        "print(\"Level 1 correct prediction is: \" +str(correct_percentage1)+ \"%\")\r\n",
        "\r\n",
        "#perfomance of level 2\r\n",
        "correct_prediction2 = test_table[2][2]\r\n",
        "total_images2 = test_table[2].sum()\r\n",
        "correct_percentage2 = correct_prediction2/total_images2*100\r\n",
        "print(\"Level 2 correct prediction is: \" +str(correct_percentage2)+ \"%\")\r\n",
        "\r\n",
        "#perfomance of level 3\r\n",
        "correct_prediction3 = test_table[3][3]\r\n",
        "total_images3 = test_table[3].sum()\r\n",
        "correct_percentage3 = correct_prediction3/total_images3*100\r\n",
        "print(\"Level 3 correct prediction is: \" +str(correct_percentage3)+ \"%\")\r\n",
        "\r\n",
        "#perfomance of level 4\r\n",
        "correct_prediction4 = test_table[4][4]\r\n",
        "total_images4 = test_table[4].sum()\r\n",
        "correct_percentage4 = correct_prediction4/total_images4*100\r\n",
        "print(\"Level 4 correct prediction is: \" +str(correct_percentage4)+ \"%\")"
      ],
      "execution_count": null,
      "outputs": [
        {
          "output_type": "stream",
          "text": [
            "Level 0 correct prediction is: row_0\n",
            "0    64.583333\n",
            "1    64.583333\n",
            "2    65.263158\n",
            "3    64.583333\n",
            "4    64.583333\n",
            "dtype: float64%\n",
            "Level 1 correct prediction is: 36.58536585365854%\n",
            "Level 2 correct prediction is: 50.467289719626166%\n",
            "Level 3 correct prediction is: 70.73170731707317%\n",
            "Level 4 correct prediction is: 69.6969696969697%\n"
          ],
          "name": "stdout"
        }
      ]
    },
    {
      "cell_type": "code",
      "metadata": {
        "id": "8y-DiKo7rlgy"
      },
      "source": [
        "model.save('/content/drive/My Drive/Datasets/DR Model/dr_model.h5')\n",
        "#pickle.dump(model, open('/content/drive/My Drive/Datasets/tfmodel.model','wb'))"
      ],
      "execution_count": null,
      "outputs": []
    },
    {
      "cell_type": "code",
      "metadata": {
        "id": "Bf9AO3c3Ad7a"
      },
      "source": [
        "model = keras.models.load_model('/content/drive/My Drive/Datasets/DR Model/dr_model.h5')"
      ],
      "execution_count": null,
      "outputs": []
    },
    {
      "cell_type": "code",
      "metadata": {
        "id": "TFjb0qTJu4vm"
      },
      "source": [
        "def crop_image_from_gray(img,tol=7):\r\n",
        "    if img.ndim ==2:\r\n",
        "        mask = img>tol\r\n",
        "        return img[np.ix_(mask.any(1),mask.any(0))]\r\n",
        "    elif img.ndim==3:\r\n",
        "        gray_img = cv2.cvtColor(img, cv2.COLOR_RGB2GRAY)\r\n",
        "        mask = gray_img>tol\r\n",
        "        \r\n",
        "        check_shape = img[:,:,0][np.ix_(mask.any(1),mask.any(0))].shape[0]\r\n",
        "        if (check_shape == 0): # image is too dark so that we crop out everything,\r\n",
        "            return img # return original image\r\n",
        "        else:\r\n",
        "            img1=img[:,:,0][np.ix_(mask.any(1),mask.any(0))]\r\n",
        "            img2=img[:,:,1][np.ix_(mask.any(1),mask.any(0))]\r\n",
        "            img3=img[:,:,2][np.ix_(mask.any(1),mask.any(0))]\r\n",
        "    #         print(img1.shape,img2.shape,img3.shape)\r\n",
        "            img = np.stack([img1,img2,img3],axis=-1)\r\n",
        "    #         print(img.shape)\r\n",
        "        return img"
      ],
      "execution_count": null,
      "outputs": []
    },
    {
      "cell_type": "code",
      "metadata": {
        "id": "DkbxJP8xu7P4"
      },
      "source": [
        "IMG_SIZE = 224\r\n",
        "def read_img(img): \r\n",
        "    img_original = cv2.imread(img,cv2.IMREAD_COLOR)\r\n",
        "    image = cv2.cvtColor(img_original, cv2.COLOR_BGR2RGB)\r\n",
        "    image = crop_image_from_gray(image)\r\n",
        "    image = cv2.resize(image, (IMG_SIZE, IMG_SIZE),interpolation=cv2.INTER_CUBIC)\r\n",
        "    image=cv2.addWeighted ( image,4, cv2.GaussianBlur( image , (0,0) , 30) ,-4 ,128)\r\n",
        "    return image"
      ],
      "execution_count": null,
      "outputs": []
    },
    {
      "cell_type": "code",
      "metadata": {
        "id": "qIe4cxQ4RekG",
        "colab": {
          "base_uri": "https://localhost:8080/"
        },
        "outputId": "f3a95ab4-9ad7-4f67-e6f6-114aa141891c"
      },
      "source": [
        "#prediction\r\n",
        "test_image = \"17_right.jpeg\"\r\n",
        "img_path = os.path.join( \"/content/drive/My Drive/sample/\", test_image)\r\n",
        "img_arr = read_img(img_path)\r\n",
        "img_arr = np.expand_dims(img_arr, axis=0)\r\n",
        "\r\n",
        "prediction = model.predict(img_arr)\r\n",
        "print(prediction[0])\r\n",
        "MaxPosition=np.array(prediction[0]).argmax()\r\n",
        "classes = ['No DR','Mild NPDR', 'Moderate NPDR','Severe NPDR', 'PDR']\r\n",
        "prediction_label=classes[MaxPosition]\r\n",
        "pred = max(prediction[0])\r\n",
        "print(str(pred*100) +\"% \"+ prediction_label)"
      ],
      "execution_count": null,
      "outputs": [
        {
          "output_type": "stream",
          "text": [
            "[0.000000e+00 9.159297e-26 1.000000e+00 0.000000e+00 0.000000e+00]\n",
            "100.0% Moderate NPDR\n"
          ],
          "name": "stdout"
        }
      ]
    },
    {
      "cell_type": "code",
      "metadata": {
        "id": "qxhL_o1L5039"
      },
      "source": [
        "# Convert the model to standard TensorFlow Lite model\r\n",
        "#converter = tf.lite.TFLiteConverter.from_keras_model(model)\r\n",
        "#tfmodel = converter.convert()\r\n",
        "#open (\"/content/drive/My Drive/Datasets/DR Model/dr_tflite_model.tflite\" , \"wb\") .write(tfmodel)"
      ],
      "execution_count": null,
      "outputs": []
    },
    {
      "cell_type": "code",
      "metadata": {
        "id": "51qO-rth5rXN"
      },
      "source": [
        "# Get the concrete function from the Keras model.\r\n",
        "run_model = tf.function(lambda x : model(x))\r\n",
        "\r\n",
        "# Save the concrete function.\r\n",
        "concrete_func = run_model.get_concrete_function(\r\n",
        "    tf.TensorSpec(model.inputs[0].shape, model.inputs[0].dtype)\r\n",
        ")"
      ],
      "execution_count": null,
      "outputs": []
    },
    {
      "cell_type": "code",
      "metadata": {
        "id": "VdSoYC5YzaxT",
        "colab": {
          "base_uri": "https://localhost:8080/"
        },
        "outputId": "6aa152e8-e686-4ace-8438-0a8c498a0567"
      },
      "source": [
        "# Convert the model to standard TensorFlow Lite model\r\n",
        "converter = tf.lite.TFLiteConverter.from_concrete_functions([concrete_func])\r\n",
        "converted_tflite_model = converter.convert()\r\n",
        "open(\"/content/drive/My Drive/Datasets/DR Model/dr_tflite_model.tflite\", \"wb\").write(converted_tflite_model)"
      ],
      "execution_count": null,
      "outputs": [
        {
          "output_type": "execute_result",
          "data": {
            "text/plain": [
              "26259856"
            ]
          },
          "metadata": {
            "tags": []
          },
          "execution_count": 9
        }
      ]
    },
    {
      "cell_type": "code",
      "metadata": {
        "id": "zkFCBtvs4COC",
        "colab": {
          "base_uri": "https://localhost:8080/"
        },
        "outputId": "6d4f8595-0409-43f3-89df-a2912d38ceac"
      },
      "source": [
        "# Convert the model to quantized version with post-training quantization\r\n",
        "converter = tf.lite.TFLiteConverter.from_concrete_functions([concrete_func])\r\n",
        "converter.optimizations = [tf.lite.Optimize.OPTIMIZE_FOR_SIZE]\r\n",
        "tflite_quant_model = converter.convert()\r\n",
        "open(\"/content/drive/My Drive/Datasets/DR Model/dr_tflite_quant_model.tflite\", \"wb\").write(tflite_quant_model)"
      ],
      "execution_count": null,
      "outputs": [
        {
          "output_type": "execute_result",
          "data": {
            "text/plain": [
              "6581424"
            ]
          },
          "metadata": {
            "tags": []
          },
          "execution_count": 10
        }
      ]
    },
    {
      "cell_type": "code",
      "metadata": {
        "id": "oJmqBlV06amR",
        "colab": {
          "base_uri": "https://localhost:8080/"
        },
        "outputId": "a942aed7-8d57-4679-9281-4e3e132bc111"
      },
      "source": [
        "tflite_interpreter = tf.lite.Interpreter(model_path=\"/content/drive/My Drive/Datasets/DR Model/dr_tflite_model.tflite\")\r\n",
        "\r\n",
        "input_details = tflite_interpreter.get_input_details()\r\n",
        "output_details = tflite_interpreter.get_output_details()\r\n",
        "\r\n",
        "print(\"== Input details ==\")\r\n",
        "print(\"shape:\", input_details[0]['shape'])\r\n",
        "print(\"type:\", input_details[0]['dtype'])\r\n",
        "print(\"\\n== Output details ==\")\r\n",
        "print(\"shape:\", output_details[0]['shape'])\r\n",
        "print(\"type:\", output_details[0]['dtype'])"
      ],
      "execution_count": null,
      "outputs": [
        {
          "output_type": "stream",
          "text": [
            "== Input details ==\n",
            "shape: [  1 224 224   3]\n",
            "type: <class 'numpy.float32'>\n",
            "\n",
            "== Output details ==\n",
            "shape: [1 5]\n",
            "type: <class 'numpy.float32'>\n"
          ],
          "name": "stdout"
        }
      ]
    }
  ]
}